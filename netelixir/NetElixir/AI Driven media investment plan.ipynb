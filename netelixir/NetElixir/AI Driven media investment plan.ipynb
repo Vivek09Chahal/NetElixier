{
  "cells": [
    {
      "cell_type": "markdown",
      "metadata": {},
      "source": [
        "The statement problem is to build an AI model solution that ask to re-allocate the budget across various paid media channels to optimize customer acquisition and conversion rates."
      ]
    },
    {
      "cell_type": "code",
      "execution_count": null,
      "metadata": {},
      "outputs": [],
      "source": [
        "#list used\n",
        "%pip install pandas==2.2.2\n",
        "%pip install numpy==1.26.4\n",
        "%pip install matplotlib==3.9.1\n",
        "%pip install sklearn==1.5.1\n",
        "%pip install seaborn==0.133.2"
      ]
    },
    {
      "cell_type": "code",
      "execution_count": 36,
      "metadata": {
        "id": "nae86tW2hkG3"
      },
      "outputs": [],
      "source": [
        "# Import necessary libraries\n",
        "import pandas as pd\n",
        "import numpy as np\n",
        "from sklearn.impute import SimpleImputer\n",
        "from sklearn.ensemble import RandomForestRegressor\n",
        "from sklearn.model_selection import train_test_split\n",
        "from sklearn.metrics import mean_squared_error\n",
        "import matplotlib.pyplot as plt\n",
        "import seaborn as sns"
      ]
    },
    {
      "cell_type": "markdown",
      "metadata": {
        "id": "fdIGUMt9XYh8"
      },
      "source": [
        "**Load Dataset**"
      ]
    },
    {
      "cell_type": "code",
      "execution_count": 23,
      "metadata": {
        "id": "jmMMrnCwHCR3"
      },
      "outputs": [],
      "source": [
        "# Load datasets\n",
        "googleads_performance = pd.read_csv('/Users/vivekchahal/developer/ML/netelixir/NetElixir/googleads-performance.csv')\n",
        "metaads_performance = pd.read_csv('/Users/vivekchahal/developer/ML/netelixir/NetElixir/metaads-performance.csv')\n",
        "microsoftads_performance = pd.read_csv('/Users/vivekchahal/developer/ML/netelixir/NetElixir/microsoftads-performance.csv')\n",
        "website_landings = pd.read_csv('/Users/vivekchahal/developer/ML/netelixir/NetElixir/website-landings.csv')\n",
        "googleads_performance.columns = googleads_performance.columns.str.capitalize()\n",
        "metaads_performance.columns = metaads_performance.columns.str.capitalize()\n",
        "microsoftads_performance.columns = microsoftads_performance.columns.str.capitalize()\n",
        "website_landings.columns = website_landings.columns.str.capitalize()"
      ]
    },
    {
      "cell_type": "code",
      "execution_count": 24,
      "metadata": {
        "colab": {
          "base_uri": "https://localhost:8080/"
        },
        "id": "1yK9VizkdStG",
        "outputId": "9a76a774-bdb6-4194-caf5-04c0b5bb8563"
      },
      "outputs": [
        {
          "name": "stdout",
          "output_type": "stream",
          "text": [
            "<class 'pandas.core.frame.DataFrame'>\n",
            "RangeIndex: 714 entries, 0 to 713\n",
            "Data columns (total 7 columns):\n",
            " #   Column         Non-Null Count  Dtype  \n",
            "---  ------         --------------  -----  \n",
            " 0   Date           714 non-null    object \n",
            " 1   Campaign type  714 non-null    object \n",
            " 2   Impressions    714 non-null    int64  \n",
            " 3   Clicks         714 non-null    int64  \n",
            " 4   Cost           714 non-null    float64\n",
            " 5   Conversions    714 non-null    float64\n",
            " 6   Revenue        714 non-null    float64\n",
            "dtypes: float64(3), int64(2), object(2)\n",
            "memory usage: 39.2+ KB\n",
            "<class 'pandas.core.frame.DataFrame'>\n",
            "RangeIndex: 182 entries, 0 to 181\n",
            "Data columns (total 7 columns):\n",
            " #   Column       Non-Null Count  Dtype  \n",
            "---  ------       --------------  -----  \n",
            " 0   Date         182 non-null    object \n",
            " 1   Impressions  182 non-null    int64  \n",
            " 2   Reach        182 non-null    int64  \n",
            " 3   Cost         182 non-null    float64\n",
            " 4   Clicks       182 non-null    int64  \n",
            " 5   Conversions  182 non-null    int64  \n",
            " 6   Revenue      182 non-null    float64\n",
            "dtypes: float64(2), int64(4), object(1)\n",
            "memory usage: 10.1+ KB\n",
            "<class 'pandas.core.frame.DataFrame'>\n",
            "RangeIndex: 721 entries, 0 to 720\n",
            "Data columns (total 7 columns):\n",
            " #   Column         Non-Null Count  Dtype  \n",
            "---  ------         --------------  -----  \n",
            " 0   Date           721 non-null    object \n",
            " 1   Campaign type  721 non-null    object \n",
            " 2   Impressions    721 non-null    int64  \n",
            " 3   Clicks         721 non-null    int64  \n",
            " 4   Cost           721 non-null    float64\n",
            " 5   Conversions    721 non-null    int64  \n",
            " 6   Revenue        721 non-null    float64\n",
            "dtypes: float64(2), int64(3), object(2)\n",
            "memory usage: 39.6+ KB\n",
            "<class 'pandas.core.frame.DataFrame'>\n",
            "RangeIndex: 1586314 entries, 0 to 1586313\n",
            "Data columns (total 6 columns):\n",
            " #   Column                Non-Null Count    Dtype \n",
            "---  ------                --------------    ----- \n",
            " 0   User id               1586314 non-null  object\n",
            " 1   Website landing time  1586314 non-null  object\n",
            " 2   Is converted          1586314 non-null  int64 \n",
            " 3   Source                971465 non-null   object\n",
            " 4   Channel               1586314 non-null  object\n",
            " 5   Campaign type         640729 non-null   object\n",
            "dtypes: int64(1), object(5)\n",
            "memory usage: 72.6+ MB\n"
          ]
        }
      ],
      "source": [
        "googleads_performance.info()\n",
        "metaads_performance.info()\n",
        "microsoftads_performance.info()\n",
        "website_landings.info()"
      ]
    },
    {
      "cell_type": "markdown",
      "metadata": {
        "id": "gbJK8yzsXnAZ"
      },
      "source": [
        "**Data Preprocessing**"
      ]
    },
    {
      "cell_type": "code",
      "execution_count": 26,
      "metadata": {
        "id": "0t00yoq8HCbC"
      },
      "outputs": [
        {
          "name": "stderr",
          "output_type": "stream",
          "text": [
            "/var/folders/1k/w2_r0tq95bdg2rjqxprgq2zr0000gn/T/ipykernel_45521/730339659.py:11: FutureWarning: A value is trying to be set on a copy of a DataFrame or Series through chained assignment using an inplace method.\n",
            "The behavior will change in pandas 3.0. This inplace method will never work because the intermediate object on which we are setting values always behaves as a copy.\n",
            "\n",
            "For example, when doing 'df[col].method(value, inplace=True)', try using 'df.method({col: value}, inplace=True)' or df[col] = df[col].method(value) instead, to perform the operation inplace on the original object.\n",
            "\n",
            "\n",
            "  googleads_performance['Campaign type'].fillna('Unknown', inplace=True)\n",
            "/var/folders/1k/w2_r0tq95bdg2rjqxprgq2zr0000gn/T/ipykernel_45521/730339659.py:20: FutureWarning: A value is trying to be set on a copy of a DataFrame or Series through chained assignment using an inplace method.\n",
            "The behavior will change in pandas 3.0. This inplace method will never work because the intermediate object on which we are setting values always behaves as a copy.\n",
            "\n",
            "For example, when doing 'df[col].method(value, inplace=True)', try using 'df.method({col: value}, inplace=True)' or df[col] = df[col].method(value) instead, to perform the operation inplace on the original object.\n",
            "\n",
            "\n",
            "  microsoftads_performance['Campaign type'].fillna('Unknown', inplace=True)\n",
            "/var/folders/1k/w2_r0tq95bdg2rjqxprgq2zr0000gn/T/ipykernel_45521/730339659.py:25: FutureWarning: A value is trying to be set on a copy of a DataFrame or Series through chained assignment using an inplace method.\n",
            "The behavior will change in pandas 3.0. This inplace method will never work because the intermediate object on which we are setting values always behaves as a copy.\n",
            "\n",
            "For example, when doing 'df[col].method(value, inplace=True)', try using 'df.method({col: value}, inplace=True)' or df[col] = df[col].method(value) instead, to perform the operation inplace on the original object.\n",
            "\n",
            "\n",
            "  website_landings['Source'].fillna('Unknown', inplace=True)\n",
            "/var/folders/1k/w2_r0tq95bdg2rjqxprgq2zr0000gn/T/ipykernel_45521/730339659.py:26: FutureWarning: A value is trying to be set on a copy of a DataFrame or Series through chained assignment using an inplace method.\n",
            "The behavior will change in pandas 3.0. This inplace method will never work because the intermediate object on which we are setting values always behaves as a copy.\n",
            "\n",
            "For example, when doing 'df[col].method(value, inplace=True)', try using 'df.method({col: value}, inplace=True)' or df[col] = df[col].method(value) instead, to perform the operation inplace on the original object.\n",
            "\n",
            "\n",
            "  website_landings['Campaign type'].fillna('Unknown', inplace=True)\n"
          ]
        }
      ],
      "source": [
        "# Handling Duplicates\n",
        "googleads_performance.drop_duplicates(inplace=True)\n",
        "metaads_performance.drop_duplicates(inplace=True)\n",
        "microsoftads_performance.drop_duplicates(inplace=True)\n",
        "website_landings.drop_duplicates(inplace=True)\n",
        "\n",
        "# Imputing missing values\n",
        "imputer = SimpleImputer(strategy='mean')\n",
        "\n",
        "# Google Ads\n",
        "googleads_performance['Campaign type'].fillna('Unknown', inplace=True)\n",
        "googleads_performance[['Impressions', 'Clicks', 'Cost', 'Conversions', 'Revenue']] = imputer.fit_transform(\n",
        "    googleads_performance[['Impressions', 'Clicks', 'Cost', 'Conversions', 'Revenue']])\n",
        "\n",
        "# Meta Ads\n",
        "metaads_performance[['Impressions', 'Reach', 'Cost', 'Clicks', 'Conversions', 'Revenue']] = imputer.fit_transform(\n",
        "    metaads_performance[['Impressions', 'Reach', 'Cost', 'Clicks', 'Conversions', 'Revenue']])\n",
        "\n",
        "# Microsoft Ads\n",
        "microsoftads_performance['Campaign type'].fillna('Unknown', inplace=True)\n",
        "microsoftads_performance[['Impressions', 'Clicks', 'Cost', 'Conversions', 'Revenue']] = imputer.fit_transform(\n",
        "    microsoftads_performance[['Impressions', 'Clicks', 'Cost', 'Conversions', 'Revenue']])\n",
        "\n",
        "# Website Landings\n",
        "website_landings['Source'].fillna('Unknown', inplace=True)\n",
        "website_landings['Campaign type'].fillna('Unknown', inplace=True)"
      ]
    },
    {
      "cell_type": "code",
      "execution_count": 27,
      "metadata": {
        "colab": {
          "base_uri": "https://localhost:8080/"
        },
        "id": "CQPeqyFD_AfB",
        "outputId": "3a6e7ddb-6159-460b-e83f-b7a36421b4b5"
      },
      "outputs": [
        {
          "name": "stderr",
          "output_type": "stream",
          "text": [
            "/var/folders/1k/w2_r0tq95bdg2rjqxprgq2zr0000gn/T/ipykernel_45521/1334785468.py:36: FutureWarning: A value is trying to be set on a copy of a DataFrame or Series through chained assignment using an inplace method.\n",
            "The behavior will change in pandas 3.0. This inplace method will never work because the intermediate object on which we are setting values always behaves as a copy.\n",
            "\n",
            "For example, when doing 'df[col].method(value, inplace=True)', try using 'df.method({col: value}, inplace=True)' or df[col] = df[col].method(value) instead, to perform the operation inplace on the original object.\n",
            "\n",
            "\n",
            "  website_landings['Is converted'].fillna(0, inplace=True)\n"
          ]
        }
      ],
      "source": [
        "# Ensure 'Date' columns are in datetime format\n",
        "googleads_performance['Date'] = pd.to_datetime(googleads_performance['Date'], errors='coerce')\n",
        "metaads_performance['Date'] = pd.to_datetime(metaads_performance['Date'], errors='coerce')\n",
        "microsoftads_performance['Date'] = pd.to_datetime(microsoftads_performance['Date'], errors='coerce')\n",
        "website_landings['Website landing time'] = pd.to_datetime(website_landings['Website landing time'], errors='coerce')\n",
        "\n",
        "## Transform 'User id' to hexadecimal string\n",
        "def transform_user_id(user_id):\n",
        "    try:\n",
        "        if isinstance(user_id, float):\n",
        "            user_id = int(user_id)\n",
        "        if isinstance(user_id, int):\n",
        "            return hex(user_id)\n",
        "        if isinstance(user_id, str):\n",
        "            if user_id.isdigit():\n",
        "                return hex(int(user_id))\n",
        "            return user_id\n",
        "    except ValueError:\n",
        "        return user_id\n",
        "\n",
        "website_landings['User id'] = website_landings['User id'].apply(transform_user_id)\n",
        "\n",
        "## Handling Incorrect Data Entries\n",
        "# Replace negative values with 0\n",
        "def clean_data(df, columns):\n",
        "    for col in columns:\n",
        "        df[col] = np.where(df[col] < 0, 0, df[col])\n",
        "\n",
        "# Apply to each DataFrame\n",
        "clean_data(googleads_performance, ['Impressions', 'Clicks', 'Cost', 'Conversions', 'Revenue'])\n",
        "clean_data(metaads_performance, ['Impressions', 'Reach', 'Cost', 'Clicks', 'Conversions', 'Revenue'])\n",
        "clean_data(microsoftads_performance, ['Impressions', 'Clicks', 'Cost', 'Conversions', 'Revenue'])\n",
        "\n",
        "# Ensure 'Is converted' column only contains binary values\n",
        "website_landings['Is converted'] = np.where(website_landings['Is converted'].isin([0, 1]), website_landings['Is converted'], np.nan)\n",
        "website_landings['Is converted'].fillna(0, inplace=True)"
      ]
    },
    {
      "cell_type": "code",
      "execution_count": 28,
      "metadata": {
        "colab": {
          "base_uri": "https://localhost:8080/"
        },
        "collapsed": true,
        "id": "siEFalk9HCg7",
        "outputId": "c354ad76-05c8-4ad2-df26-bf0f77146b6c"
      },
      "outputs": [
        {
          "name": "stdout",
          "output_type": "stream",
          "text": [
            "                 Date Channel  Campaign type    Source  Conversions  \\\n",
            "0 2024-01-01 00:01:31    paid  Cross-network    google          0.0   \n",
            "1 2024-01-01 00:01:53  direct        Unknown   Unknown          0.0   \n",
            "2 2024-01-01 00:01:59    paid  Cross-network    google          0.0   \n",
            "3 2024-01-01 00:02:02    paid  Cross-network    google          0.0   \n",
            "4 2024-01-01 00:02:05    paid        Unknown  facebook          0.0   \n",
            "\n",
            "   Impressions  \n",
            "0            1  \n",
            "1            1  \n",
            "2            1  \n",
            "3            1  \n",
            "4            1  \n"
          ]
        }
      ],
      "source": [
        "# Rename columns in website_landings for consistency\n",
        "website_landings.rename(columns={\n",
        "    'Website landing time': 'Date',\n",
        "    'Is converted': 'Conversions',\n",
        "    'Channel': 'Channel',\n",
        "    'Campaign type': 'Campaign type'\n",
        "}, inplace=True)\n",
        "\n",
        "# Aggregate website landings data by Date, Channel, and Campaign type\n",
        "website_conversions = website_landings.groupby(['Date', 'Channel', 'Campaign type','Source']).agg({\n",
        "    'Conversions': 'sum',\n",
        "    'User id': 'count'  # Assuming User id represents impressions\n",
        "}).rename(columns={'User id': 'Impressions'}).reset_index()\n",
        "\n",
        "# Display the first few rows of the aggregated website conversions data\n",
        "print(website_conversions.head())"
      ]
    },
    {
      "cell_type": "markdown",
      "metadata": {
        "id": "AUg2psPSX6eq"
      },
      "source": [
        "\n",
        "**Data Preperation for Modelling**"
      ]
    },
    {
      "cell_type": "code",
      "execution_count": 29,
      "metadata": {
        "id": "Z1SKuxRgNgWS"
      },
      "outputs": [
        {
          "name": "stderr",
          "output_type": "stream",
          "text": [
            "/var/folders/1k/w2_r0tq95bdg2rjqxprgq2zr0000gn/T/ipykernel_45521/3140472106.py:14: FutureWarning: A value is trying to be set on a copy of a DataFrame or Series through chained assignment using an inplace method.\n",
            "The behavior will change in pandas 3.0. This inplace method will never work because the intermediate object on which we are setting values always behaves as a copy.\n",
            "\n",
            "For example, when doing 'df[col].method(value, inplace=True)', try using 'df.method({col: value}, inplace=True)' or df[col] = df[col].method(value) instead, to perform the operation inplace on the original object.\n",
            "\n",
            "\n",
            "  ads_performance['Campaign type'].fillna('Unknown', inplace=True)\n"
          ]
        }
      ],
      "source": [
        "# Prepare Google Ads data\n",
        "googleads_data = googleads_performance[['Date', 'Campaign type', 'Impressions', 'Clicks', 'Cost', 'Conversions', 'Revenue']]\n",
        "\n",
        "# Prepare Meta Ads data\n",
        "metaads_data = metaads_performance[['Date', 'Impressions', 'Clicks', 'Cost', 'Conversions', 'Revenue']]\n",
        "\n",
        "# Prepare Microsoft Ads data\n",
        "microsoftads_data = microsoftads_performance[['Date', 'Campaign type', 'Impressions', 'Clicks', 'Cost', 'Conversions', 'Revenue']]\n",
        "\n",
        "# Concatenate all datasets\n",
        "ads_performance = pd.concat([googleads_data, metaads_data, microsoftads_data], ignore_index=True)\n",
        "\n",
        "# Clean the 'Campaign type' field\n",
        "ads_performance['Campaign type'].fillna('Unknown', inplace=True)\n",
        "\n",
        "# Aggregate by Date and Campaign type\n",
        "ads_performance_grouped = ads_performance.groupby(['Date', 'Campaign type']).sum().reset_index()\n",
        "\n",
        "# Join with website landings data\n",
        "website_landings_grouped = website_conversions.groupby(['Date','Channel','Campaign type', 'Source']).agg({  # Include 'Source' in the grouping\n",
        "    'Conversions': 'sum',\n",
        "    'Impressions':'count'\n",
        "}).reset_index()\n",
        "\n",
        "# Ensure the 'Conversions' column from website_landings_grouped is preserved during the merge\n",
        "final_data = ads_performance_grouped.merge(website_landings_grouped, on=['Date', 'Campaign type'], how='left', suffixes=('_ads', '_website'))\n",
        "\n",
        "# Fill missing values after merge\n",
        "final_data.fillna(0, inplace=True)\n",
        "\n",
        "# Feature Engineering\n",
        "final_data['Cost_per_Click'] = final_data['Cost'] / np.where(final_data['Clicks'] == 0, 1, final_data['Clicks'])\n",
        "final_data['Conversion_Rate'] = final_data['Conversions_website'] / np.where(final_data['Clicks'] == 0, 1, final_data['Clicks'])\n",
        "\n",
        "# Select features and target\n",
        "features = ['Impressions_ads', 'Clicks', 'Cost', 'Cost_per_Click', 'Conversion_Rate']\n",
        "target = 'Revenue'\n",
        "\n",
        "# Splitting the data\n",
        "X = final_data[features]\n",
        "y = final_data[target]\n",
        "\n",
        "X_train, X_test, y_train, y_test = train_test_split(X, y, test_size=0.2, random_state=42)"
      ]
    },
    {
      "cell_type": "markdown",
      "metadata": {
        "id": "919EMaOOYDb6"
      },
      "source": [
        "# **Model Training**"
      ]
    },
    {
      "cell_type": "code",
      "execution_count": 30,
      "metadata": {
        "colab": {
          "base_uri": "https://localhost:8080/"
        },
        "id": "FiV-I4bPHCmM",
        "outputId": "f5d6bdcd-74e7-4c94-98fb-0ad29fbbd9e6"
      },
      "outputs": [
        {
          "name": "stdout",
          "output_type": "stream",
          "text": [
            "Root Mean Squared Error (RMSE): 2337.387546885004\n",
            "R^2: 0.7510529802114719\n"
          ]
        }
      ],
      "source": [
        "# --- Model Training ---\n",
        "\n",
        "## Initialize the RandomForestRegressor model\n",
        "model = RandomForestRegressor(n_estimators=100, random_state=42)\n",
        "\n",
        "## Train the model\n",
        "model.fit(X_train, y_train)\n",
        "\n",
        "## Predictions\n",
        "y_pred = model.predict(X_test)\n",
        "\n",
        "## Model evaluation\n",
        "mse = mean_squared_error(y_test, y_pred)\n",
        "rmse = np.sqrt(mse)\n",
        "\n",
        "print(f\"Root Mean Squared Error (RMSE): {rmse}\")\n",
        "r2 = model.score(X_test, y_test)\n",
        "print(f\"R^2: {r2}\")\n"
      ]
    },
    {
      "cell_type": "markdown",
      "metadata": {},
      "source": [
        "# RESULT"
      ]
    },
    {
      "cell_type": "markdown",
      "metadata": {
        "id": "zP9iFoNnYLyJ"
      },
      "source": [
        "**Budget Allocation(Including Unknown Channel)**"
      ]
    },
    {
      "cell_type": "code",
      "execution_count": 31,
      "metadata": {},
      "outputs": [
        {
          "name": "stdout",
          "output_type": "stream",
          "text": [
            "Budget Allocation across Channels, Campaign types, and Sources:\n",
            "  Channel     Campaign type  Source  Allocated_Budget\n",
            "0       0          Audience       0       7300.551145\n",
            "1       0     Cross-network       0      12574.466404\n",
            "2       0   Display Network       0      14687.168358\n",
            "3       0   Performance max       0       7205.100497\n",
            "4       0  Search & content       0       8363.257035\n",
            "5       0    Search Network       0      19194.367308\n",
            "6       0          Shopping       0      19544.169654\n",
            "7       0           Unknown       0      97549.430830\n",
            "8       0           YouTube       0       1512.267500\n",
            "9    paid     Cross-network  google      12069.221266\n"
          ]
        }
      ],
      "source": [
        "# Calculate the metrics: Cost per Conversion (CPC), ROI, Conversion Rate\n",
        "final_data['CPC'] = final_data['Cost'] / np.where(final_data['Conversions_website'] == 0, 1, final_data['Conversions_website'])\n",
        "final_data['ROI'] = final_data['Revenue'] / np.where(final_data['Cost'] == 0, 1, final_data['Cost'])\n",
        "final_data['Conversion_Rate'] = final_data['Conversions_website'] / np.where(final_data['Clicks'] == 0, 1, final_data['Clicks'])\n",
        "\n",
        "# Group by Channel, Campaign type, and Source to calculate aggregate metrics\n",
        "grouped_metrics = final_data.groupby(['Channel', 'Campaign type', 'Source']).agg({\n",
        "    'Cost': 'sum',\n",
        "    'Revenue': 'sum',\n",
        "    'Conversions_website': 'sum',\n",
        "    'Clicks': 'sum'\n",
        "}).reset_index()\n",
        "\n",
        "# Recalculate CPC, ROI, and Conversion Rate for each group\n",
        "grouped_metrics['CPC'] = grouped_metrics['Cost'] / np.where(grouped_metrics['Conversions_website'] == 0, 1, grouped_metrics['Conversions_website'])\n",
        "grouped_metrics['ROI'] = grouped_metrics['Revenue'] / np.where(grouped_metrics['Cost'] == 0, 1, grouped_metrics['Cost'])\n",
        "grouped_metrics['Conversion_Rate'] = grouped_metrics['Conversions_website'] / np.where(grouped_metrics['Clicks'] == 0, 1, grouped_metrics['Clicks'])\n",
        "\n",
        "# Normalize the metrics to use them in budget allocation\n",
        "grouped_metrics['Normalized_CPC'] = 1 / grouped_metrics['CPC']  # Inverted as lower CPC is better\n",
        "grouped_metrics['Normalized_ROI'] = grouped_metrics['ROI'] / grouped_metrics['ROI'].sum()\n",
        "grouped_metrics['Normalized_Conversion_Rate'] = grouped_metrics['Conversion_Rate'] / grouped_metrics['Conversion_Rate'].sum()\n",
        "\n",
        "# Normalize all metrics so their sum equals 1\n",
        "total_normalized = grouped_metrics[['Normalized_CPC', 'Normalized_ROI', 'Normalized_Conversion_Rate']].sum(axis=1)\n",
        "grouped_metrics['Total_Normalized'] = total_normalized / total_normalized.sum()\n",
        "\n",
        "# Allocate the budget\n",
        "total_budget = 200000\n",
        "grouped_metrics['Allocated_Budget'] = grouped_metrics['Total_Normalized'] * total_budget\n",
        "# Display the budget allocation\n",
        "print(\"Budget Allocation across Channels, Campaign types, and Sources:\")\n",
        "print(grouped_metrics[['Channel', 'Campaign type', 'Source', 'Allocated_Budget']])\n"
      ]
    },
    {
      "cell_type": "code",
      "execution_count": 32,
      "metadata": {},
      "outputs": [
        {
          "data": {
            "text/html": [
              "<div>\n",
              "<style scoped>\n",
              "    .dataframe tbody tr th:only-of-type {\n",
              "        vertical-align: middle;\n",
              "    }\n",
              "\n",
              "    .dataframe tbody tr th {\n",
              "        vertical-align: top;\n",
              "    }\n",
              "\n",
              "    .dataframe thead th {\n",
              "        text-align: right;\n",
              "    }\n",
              "</style>\n",
              "<table border=\"1\" class=\"dataframe\">\n",
              "  <thead>\n",
              "    <tr style=\"text-align: right;\">\n",
              "      <th></th>\n",
              "      <th>Date</th>\n",
              "      <th>Campaign type</th>\n",
              "      <th>Impressions_ads</th>\n",
              "      <th>Clicks</th>\n",
              "      <th>Cost</th>\n",
              "      <th>Conversions_ads</th>\n",
              "      <th>Revenue</th>\n",
              "      <th>Channel</th>\n",
              "      <th>Source</th>\n",
              "      <th>Conversions_website</th>\n",
              "      <th>Impressions_website</th>\n",
              "      <th>Cost_per_Click</th>\n",
              "      <th>Conversion_Rate</th>\n",
              "      <th>CPC</th>\n",
              "      <th>ROI</th>\n",
              "    </tr>\n",
              "  </thead>\n",
              "  <tbody>\n",
              "    <tr>\n",
              "      <th>0</th>\n",
              "      <td>2024-01-01</td>\n",
              "      <td>Audience</td>\n",
              "      <td>9132.0</td>\n",
              "      <td>50.0</td>\n",
              "      <td>26.8</td>\n",
              "      <td>0.0</td>\n",
              "      <td>0.0</td>\n",
              "      <td>0</td>\n",
              "      <td>0</td>\n",
              "      <td>0.0</td>\n",
              "      <td>0.0</td>\n",
              "      <td>0.536000</td>\n",
              "      <td>0.0</td>\n",
              "      <td>26.8</td>\n",
              "      <td>0.000000</td>\n",
              "    </tr>\n",
              "    <tr>\n",
              "      <th>1</th>\n",
              "      <td>2024-01-01</td>\n",
              "      <td>Cross-network</td>\n",
              "      <td>143669.0</td>\n",
              "      <td>896.0</td>\n",
              "      <td>656.3</td>\n",
              "      <td>6.5</td>\n",
              "      <td>1410.3</td>\n",
              "      <td>0</td>\n",
              "      <td>0</td>\n",
              "      <td>0.0</td>\n",
              "      <td>0.0</td>\n",
              "      <td>0.732478</td>\n",
              "      <td>0.0</td>\n",
              "      <td>656.3</td>\n",
              "      <td>2.148865</td>\n",
              "    </tr>\n",
              "    <tr>\n",
              "      <th>2</th>\n",
              "      <td>2024-01-01</td>\n",
              "      <td>Display Network</td>\n",
              "      <td>3.0</td>\n",
              "      <td>0.0</td>\n",
              "      <td>0.0</td>\n",
              "      <td>0.0</td>\n",
              "      <td>0.0</td>\n",
              "      <td>0</td>\n",
              "      <td>0</td>\n",
              "      <td>0.0</td>\n",
              "      <td>0.0</td>\n",
              "      <td>0.000000</td>\n",
              "      <td>0.0</td>\n",
              "      <td>0.0</td>\n",
              "      <td>0.000000</td>\n",
              "    </tr>\n",
              "    <tr>\n",
              "      <th>3</th>\n",
              "      <td>2024-01-01</td>\n",
              "      <td>Performance max</td>\n",
              "      <td>897.0</td>\n",
              "      <td>9.0</td>\n",
              "      <td>7.0</td>\n",
              "      <td>0.0</td>\n",
              "      <td>0.0</td>\n",
              "      <td>0</td>\n",
              "      <td>0</td>\n",
              "      <td>0.0</td>\n",
              "      <td>0.0</td>\n",
              "      <td>0.777778</td>\n",
              "      <td>0.0</td>\n",
              "      <td>7.0</td>\n",
              "      <td>0.000000</td>\n",
              "    </tr>\n",
              "    <tr>\n",
              "      <th>4</th>\n",
              "      <td>2024-01-01</td>\n",
              "      <td>Search &amp; content</td>\n",
              "      <td>95977.0</td>\n",
              "      <td>561.0</td>\n",
              "      <td>846.5</td>\n",
              "      <td>1.0</td>\n",
              "      <td>168.8</td>\n",
              "      <td>0</td>\n",
              "      <td>0</td>\n",
              "      <td>0.0</td>\n",
              "      <td>0.0</td>\n",
              "      <td>1.508913</td>\n",
              "      <td>0.0</td>\n",
              "      <td>846.5</td>\n",
              "      <td>0.199409</td>\n",
              "    </tr>\n",
              "    <tr>\n",
              "      <th>...</th>\n",
              "      <td>...</td>\n",
              "      <td>...</td>\n",
              "      <td>...</td>\n",
              "      <td>...</td>\n",
              "      <td>...</td>\n",
              "      <td>...</td>\n",
              "      <td>...</td>\n",
              "      <td>...</td>\n",
              "      <td>...</td>\n",
              "      <td>...</td>\n",
              "      <td>...</td>\n",
              "      <td>...</td>\n",
              "      <td>...</td>\n",
              "      <td>...</td>\n",
              "      <td>...</td>\n",
              "    </tr>\n",
              "    <tr>\n",
              "      <th>636</th>\n",
              "      <td>2024-12-06</td>\n",
              "      <td>Search &amp; content</td>\n",
              "      <td>46431.0</td>\n",
              "      <td>336.0</td>\n",
              "      <td>519.6</td>\n",
              "      <td>9.0</td>\n",
              "      <td>1616.5</td>\n",
              "      <td>0</td>\n",
              "      <td>0</td>\n",
              "      <td>0.0</td>\n",
              "      <td>0.0</td>\n",
              "      <td>1.546429</td>\n",
              "      <td>0.0</td>\n",
              "      <td>519.6</td>\n",
              "      <td>3.111047</td>\n",
              "    </tr>\n",
              "    <tr>\n",
              "      <th>637</th>\n",
              "      <td>2024-12-06</td>\n",
              "      <td>Search Network</td>\n",
              "      <td>8237.0</td>\n",
              "      <td>559.0</td>\n",
              "      <td>1994.2</td>\n",
              "      <td>38.0</td>\n",
              "      <td>10142.2</td>\n",
              "      <td>0</td>\n",
              "      <td>0</td>\n",
              "      <td>0.0</td>\n",
              "      <td>0.0</td>\n",
              "      <td>3.567442</td>\n",
              "      <td>0.0</td>\n",
              "      <td>1994.2</td>\n",
              "      <td>5.085849</td>\n",
              "    </tr>\n",
              "    <tr>\n",
              "      <th>638</th>\n",
              "      <td>2024-12-06</td>\n",
              "      <td>Shopping</td>\n",
              "      <td>51972.0</td>\n",
              "      <td>193.0</td>\n",
              "      <td>166.5</td>\n",
              "      <td>8.0</td>\n",
              "      <td>549.0</td>\n",
              "      <td>0</td>\n",
              "      <td>0</td>\n",
              "      <td>0.0</td>\n",
              "      <td>0.0</td>\n",
              "      <td>0.862694</td>\n",
              "      <td>0.0</td>\n",
              "      <td>166.5</td>\n",
              "      <td>3.297297</td>\n",
              "    </tr>\n",
              "    <tr>\n",
              "      <th>639</th>\n",
              "      <td>2024-12-06</td>\n",
              "      <td>Unknown</td>\n",
              "      <td>7578.0</td>\n",
              "      <td>96.0</td>\n",
              "      <td>62.8</td>\n",
              "      <td>16.0</td>\n",
              "      <td>3662.7</td>\n",
              "      <td>0</td>\n",
              "      <td>0</td>\n",
              "      <td>0.0</td>\n",
              "      <td>0.0</td>\n",
              "      <td>0.654167</td>\n",
              "      <td>0.0</td>\n",
              "      <td>62.8</td>\n",
              "      <td>58.323248</td>\n",
              "    </tr>\n",
              "    <tr>\n",
              "      <th>640</th>\n",
              "      <td>2024-12-06</td>\n",
              "      <td>YouTube</td>\n",
              "      <td>27960.0</td>\n",
              "      <td>3.0</td>\n",
              "      <td>127.1</td>\n",
              "      <td>0.0</td>\n",
              "      <td>0.0</td>\n",
              "      <td>0</td>\n",
              "      <td>0</td>\n",
              "      <td>0.0</td>\n",
              "      <td>0.0</td>\n",
              "      <td>42.366667</td>\n",
              "      <td>0.0</td>\n",
              "      <td>127.1</td>\n",
              "      <td>0.000000</td>\n",
              "    </tr>\n",
              "  </tbody>\n",
              "</table>\n",
              "<p>641 rows × 15 columns</p>\n",
              "</div>"
            ],
            "text/plain": [
              "          Date     Campaign type  Impressions_ads  Clicks    Cost  \\\n",
              "0   2024-01-01          Audience           9132.0    50.0    26.8   \n",
              "1   2024-01-01     Cross-network         143669.0   896.0   656.3   \n",
              "2   2024-01-01   Display Network              3.0     0.0     0.0   \n",
              "3   2024-01-01   Performance max            897.0     9.0     7.0   \n",
              "4   2024-01-01  Search & content          95977.0   561.0   846.5   \n",
              "..         ...               ...              ...     ...     ...   \n",
              "636 2024-12-06  Search & content          46431.0   336.0   519.6   \n",
              "637 2024-12-06    Search Network           8237.0   559.0  1994.2   \n",
              "638 2024-12-06          Shopping          51972.0   193.0   166.5   \n",
              "639 2024-12-06           Unknown           7578.0    96.0    62.8   \n",
              "640 2024-12-06           YouTube          27960.0     3.0   127.1   \n",
              "\n",
              "     Conversions_ads  Revenue Channel Source  Conversions_website  \\\n",
              "0                0.0      0.0       0      0                  0.0   \n",
              "1                6.5   1410.3       0      0                  0.0   \n",
              "2                0.0      0.0       0      0                  0.0   \n",
              "3                0.0      0.0       0      0                  0.0   \n",
              "4                1.0    168.8       0      0                  0.0   \n",
              "..               ...      ...     ...    ...                  ...   \n",
              "636              9.0   1616.5       0      0                  0.0   \n",
              "637             38.0  10142.2       0      0                  0.0   \n",
              "638              8.0    549.0       0      0                  0.0   \n",
              "639             16.0   3662.7       0      0                  0.0   \n",
              "640              0.0      0.0       0      0                  0.0   \n",
              "\n",
              "     Impressions_website  Cost_per_Click  Conversion_Rate     CPC        ROI  \n",
              "0                    0.0        0.536000              0.0    26.8   0.000000  \n",
              "1                    0.0        0.732478              0.0   656.3   2.148865  \n",
              "2                    0.0        0.000000              0.0     0.0   0.000000  \n",
              "3                    0.0        0.777778              0.0     7.0   0.000000  \n",
              "4                    0.0        1.508913              0.0   846.5   0.199409  \n",
              "..                   ...             ...              ...     ...        ...  \n",
              "636                  0.0        1.546429              0.0   519.6   3.111047  \n",
              "637                  0.0        3.567442              0.0  1994.2   5.085849  \n",
              "638                  0.0        0.862694              0.0   166.5   3.297297  \n",
              "639                  0.0        0.654167              0.0    62.8  58.323248  \n",
              "640                  0.0       42.366667              0.0   127.1   0.000000  \n",
              "\n",
              "[641 rows x 15 columns]"
            ]
          },
          "execution_count": 32,
          "metadata": {},
          "output_type": "execute_result"
        }
      ],
      "source": [
        "final_data"
      ]
    },
    {
      "cell_type": "markdown",
      "metadata": {
        "id": "wZ2KVSI1YWBg"
      },
      "source": [
        "**Data Visualization**"
      ]
    },
    {
      "cell_type": "code",
      "execution_count": 37,
      "metadata": {
        "colab": {
          "base_uri": "https://localhost:8080/",
          "height": 822
        },
        "id": "IGBlWGHnHCrT",
        "outputId": "99d081dc-5a44-4efe-dc93-2ce5b1b2e0a5"
      },
      "outputs": [
        {
          "data": {
            "image/png": "[encoded data removed]",
            "text/plain": [
              "<Figure size 1500x1000 with 1 Axes>"
            ]
          },
          "metadata": {},
          "output_type": "display_data"
        }
      ],
      "source": [
        "# Convert the Allocated_Budget column back to a numeric format for plotting\n",
        "grouped_metrics['Allocated_Budget_Numeric'] = grouped_metrics['Allocated_Budget'].replace('[\\$,]', '', regex=True).astype(float)\n",
        "\n",
        "# Set the plot size\n",
        "plt.figure(figsize=(15, 10))\n",
        "\n",
        "# Create a vertical bar plot\n",
        "sns.barplot(\n",
        "    data=grouped_metrics.sort_values('Allocated_Budget_Numeric', ascending=False),\n",
        "    x='Channel',\n",
        "    y='Allocated_Budget_Numeric',\n",
        "    hue='Campaign type',\n",
        "    palette='Set3',\n",
        "    width=2.5\n",
        ")\n",
        "\n",
        "# Set plot labels and title\n",
        "plt.xlabel('Channel')\n",
        "plt.ylabel('Allocated Budget (USD)')\n",
        "plt.title('Budget Allocation by Channel and Campaign Type')\n",
        "plt.legend(title='Campaign Type', bbox_to_anchor=(1.05, 1), loc='upper left')\n",
        "plt.show()\n"
      ]
    },
    {
      "cell_type": "code",
      "execution_count": 40,
      "metadata": {},
      "outputs": [
        {
          "name": "stdout",
          "output_type": "stream",
          "text": [
            "Budget Allocation across Channels, Campaign types, and Sources after filtering:\n",
            "  Channel     Campaign type  Source Allocated_Budget\n",
            "0       0          Audience       0       $15,321.74\n",
            "1       0     Cross-network       0       $26,586.73\n",
            "2       0   Display Network       0       $14,688.88\n",
            "3       0   Performance max       0       $15,178.85\n",
            "4       0  Search & content       0       $17,679.88\n",
            "5       0    Search Network       0       $40,583.05\n",
            "6       0          Shopping       0       $41,309.13\n",
            "7       0           YouTube       0        $3,164.39\n",
            "8    paid     Cross-network  google       $25,487.35\n"
          ]
        }
      ],
      "source": [
        "# Budget Allocation after Filtering\n",
        "\n",
        "filtered_data = final_data[~((final_data['Campaign type'] == 'Unknown') &\n",
        "                             (final_data['Source'] == 0) &\n",
        "                             (final_data['Channel'] == 0))].copy()  # Ensure to use .copy() to avoid the SettingWithCopyWarning\n",
        "\n",
        "# Recalculate the metrics: Cost per Conversion (CPC), ROI, Conversion Rate\n",
        "filtered_data.loc[:, 'CPC'] = filtered_data['Cost'] / np.where(filtered_data['Conversions_website'] == 0, 1, filtered_data['Conversions_website'])\n",
        "filtered_data.loc[:, 'ROI'] = filtered_data['Revenue'] / np.where(filtered_data['Cost'] == 0, 1, filtered_data['Cost'])\n",
        "filtered_data.loc[:, 'Conversion_Rate'] = filtered_data['Conversions_website'] / np.where(filtered_data['Clicks'] == 0, 1, filtered_data['Clicks'])\n",
        "\n",
        "# Group by Channel, Campaign type, and Source to calculate aggregate metrics\n",
        "grouped_filtered_metrics = filtered_data.groupby(['Channel', 'Campaign type', 'Source']).agg({\n",
        "    'Cost': 'sum',\n",
        "    'Revenue': 'sum',\n",
        "    'Conversions_website': 'sum',\n",
        "    'Clicks': 'sum'\n",
        "}).reset_index()\n",
        "\n",
        "# Recalculate CPC, ROI, and Conversion Rate for each group\n",
        "grouped_filtered_metrics.loc[:, 'CPC'] = grouped_filtered_metrics['Cost'] / np.where(grouped_filtered_metrics['Conversions_website'] == 0, 1, grouped_filtered_metrics['Conversions_website'])\n",
        "grouped_filtered_metrics.loc[:, 'ROI'] = grouped_filtered_metrics['Revenue'] / np.where(grouped_filtered_metrics['Cost'] == 0, 1, grouped_filtered_metrics['Cost'])\n",
        "grouped_filtered_metrics.loc[:, 'Conversion_Rate'] = grouped_filtered_metrics['Conversions_website'] / np.where(grouped_filtered_metrics['Clicks'] == 0, 1, grouped_filtered_metrics['Clicks'])\n",
        "\n",
        "# Normalize the metrics to use them in budget allocation\n",
        "grouped_filtered_metrics['Normalized_CPC'] = 1 / grouped_filtered_metrics['CPC']  # Inverted as lower CPC is better\n",
        "grouped_filtered_metrics['Normalized_ROI'] = grouped_filtered_metrics['ROI'] / grouped_filtered_metrics['ROI'].sum()\n",
        "grouped_filtered_metrics['Normalized_Conversion_Rate'] = grouped_filtered_metrics['Conversion_Rate'] / grouped_filtered_metrics['Conversion_Rate'].sum()\n",
        "\n",
        "# Normalize all metrics so their sum equals 1\n",
        "total_normalized_filtered = grouped_filtered_metrics[['Normalized_CPC', 'Normalized_ROI', 'Normalized_Conversion_Rate']].sum(axis=1)\n",
        "grouped_filtered_metrics['Total_Normalized'] = total_normalized_filtered / total_normalized_filtered.sum()\n",
        "\n",
        "# Allocate the budget\n",
        "total_budget = 200000  # Example total budget in USD\n",
        "grouped_filtered_metrics['Allocated_Budget'] = grouped_filtered_metrics['Total_Normalized'] * total_budget\n",
        "\n",
        "# Format the Allocated Budget as USD with dollar symbol\n",
        "grouped_filtered_metrics['Allocated_Budget'] = grouped_filtered_metrics['Allocated_Budget'].apply(lambda x: f\"${x:,.2f}\")\n",
        "\n",
        "# Display the budget allocation\n",
        "print(\"Budget Allocation across Channels, Campaign types, and Sources after filtering:\")\n",
        "print(grouped_filtered_metrics[['Channel', 'Campaign type', 'Source', 'Allocated_Budget']])\n",
        "\n",
        "     "
      ]
    }
  ],
  "metadata": {
    "colab": {
      "provenance": []
    },
    "kernelspec": {
      "display_name": "Python 3",
      "name": "python3"
    },
    "language_info": {
      "codemirror_mode": {
        "name": "ipython",
        "version": 3
      },
      "file_extension": ".py",
      "mimetype": "text/x-python",
      "name": "python",
      "nbconvert_exporter": "python",
      "pygments_lexer": "ipython3",
      "version": "3.9.6"
    }
  },
  "nbformat": 4,
  "nbformat_minor": 0
}
