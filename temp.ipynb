{
 "cells": [
  {
   "cell_type": "code",
   "execution_count": 146,
   "metadata": {},
   "outputs": [],
   "source": [
    "# teamname_projectname.ipynb\n",
    "\n",
    "import pandas as pd\n",
    "import numpy as np\n",
    "from sklearn.model_selection import train_test_split, GridSearchCV\n",
    "from sklearn.ensemble import GradientBoostingRegressor\n",
    "from sklearn.metrics import mean_squared_error, mean_absolute_error, r2_score\n",
    "import matplotlib.pyplot as plt\n",
    "import seaborn as sns\n"
   ]
  },
  {
   "cell_type": "code",
   "execution_count": 147,
   "metadata": {},
   "outputs": [],
   "source": [
    "# Load the data\n",
    "google_ads = pd.read_csv('Train Data/googleads-performance.csv')\n",
    "# meta_ads = pd.read_csv('Train Data/metaads-performance.csv')\n",
    "microsoft_ads = pd.read_csv('Train Data/microsoftads-performance.csv')\n",
    "# website_landing = pd.read_csv('Train Data/website-landings.csv')"
   ]
  },
  {
   "cell_type": "code",
   "execution_count": 148,
   "metadata": {},
   "outputs": [],
   "source": [
    "# Combine data\n",
    "ads_data = pd.concat([google_ads, microsoft_ads], axis=0)"
   ]
  },
  {
   "cell_type": "code",
   "execution_count": 149,
   "metadata": {},
   "outputs": [],
   "source": [
    "# Convert Date to datetime\n",
    "ads_data['Date'] = pd.to_datetime(ads_data['Date'])"
   ]
  },
  {
   "cell_type": "code",
   "execution_count": 150,
   "metadata": {},
   "outputs": [
    {
     "name": "stdout",
     "output_type": "stream",
     "text": [
      "<class 'pandas.core.frame.DataFrame'>\n",
      "Index: 1435 entries, 0 to 720\n",
      "Data columns (total 5 columns):\n",
      " #   Column       Non-Null Count  Dtype  \n",
      "---  ------       --------------  -----  \n",
      " 0   Impressions  1435 non-null   float64\n",
      " 1   Clicks       1435 non-null   object \n",
      " 2   Cost         1435 non-null   float64\n",
      " 3   Conversions  1435 non-null   float64\n",
      " 4   Revenue      1435 non-null   float64\n",
      "dtypes: float64(4), object(1)\n",
      "memory usage: 67.3+ KB\n"
     ]
    }
   ],
   "source": [
    "ads_data = ads_data.drop(['Date', 'Campaign type'], axis=1)\n",
    "ads_data.info()"
   ]
  },
  {
   "cell_type": "code",
   "execution_count": 151,
   "metadata": {},
   "outputs": [
    {
     "name": "stdout",
     "output_type": "stream",
     "text": [
      "Impressions    0\n",
      "Clicks         0\n",
      "Cost           0\n",
      "Conversions    0\n",
      "Revenue        0\n",
      "dtype: int64\n"
     ]
    }
   ],
   "source": [
    "print(ads_data.isna().sum())"
   ]
  },
  {
   "cell_type": "code",
   "execution_count": 152,
   "metadata": {},
   "outputs": [],
   "source": [
    "# ads_data = pd.to_numeric(ads_data)\n",
    "ads_data['Clicks'] = pd.to_numeric(ads_data['Clicks'], errors='coerce')"
   ]
  },
  {
   "cell_type": "code",
   "execution_count": 153,
   "metadata": {},
   "outputs": [],
   "source": [
    "ads_data['Clicks'] = ads_data['Clicks'].fillna(0)"
   ]
  },
  {
   "cell_type": "code",
   "execution_count": 154,
   "metadata": {},
   "outputs": [
    {
     "name": "stdout",
     "output_type": "stream",
     "text": [
      "<class 'pandas.core.frame.DataFrame'>\n",
      "Index: 1435 entries, 0 to 720\n",
      "Data columns (total 5 columns):\n",
      " #   Column       Non-Null Count  Dtype  \n",
      "---  ------       --------------  -----  \n",
      " 0   Impressions  1435 non-null   float64\n",
      " 1   Clicks       1435 non-null   float64\n",
      " 2   Cost         1435 non-null   float64\n",
      " 3   Conversions  1435 non-null   float64\n",
      " 4   Revenue      1435 non-null   float64\n",
      "dtypes: float64(5)\n",
      "memory usage: 67.3 KB\n"
     ]
    }
   ],
   "source": [
    "ads_data.info()"
   ]
  },
  {
   "cell_type": "code",
   "execution_count": 155,
   "metadata": {},
   "outputs": [],
   "source": [
    "# Define features and target\n",
    "features = ['Impressions', 'Clicks', 'Cost']\n",
    "target = 'Conversions'"
   ]
  },
  {
   "cell_type": "code",
   "execution_count": 156,
   "metadata": {},
   "outputs": [],
   "source": [
    "\n",
    "X = ads_data[features]\n",
    "y = ads_data[target]\n"
   ]
  },
  {
   "cell_type": "code",
   "execution_count": 157,
   "metadata": {},
   "outputs": [
    {
     "name": "stdout",
     "output_type": "stream",
     "text": [
      "Impressions    0\n",
      "Clicks         0\n",
      "Cost           0\n",
      "Conversions    0\n",
      "Revenue        0\n",
      "dtype: int64\n"
     ]
    }
   ],
   "source": [
    "print(ads_data.isna().sum())"
   ]
  },
  {
   "cell_type": "code",
   "execution_count": 158,
   "metadata": {},
   "outputs": [],
   "source": [
    "# Split the data into training and testing sets\n",
    "X_train, X_test, y_train, y_test = train_test_split(X, y, test_size=0.2, random_state=42)\n"
   ]
  },
  {
   "cell_type": "code",
   "execution_count": 159,
   "metadata": {},
   "outputs": [
    {
     "data": {
      "text/plain": [
       "(Impressions    1148\n",
       " Clicks         1148\n",
       " Cost           1148\n",
       " dtype: int64,\n",
       " 1148)"
      ]
     },
     "execution_count": 159,
     "metadata": {},
     "output_type": "execute_result"
    }
   ],
   "source": [
    "X_train.count(), y_train.count()"
   ]
  },
  {
   "cell_type": "code",
   "execution_count": 160,
   "metadata": {},
   "outputs": [
    {
     "data": {
      "text/plain": [
       "(Impressions    287\n",
       " Clicks         287\n",
       " Cost           287\n",
       " dtype: int64,\n",
       " 287)"
      ]
     },
     "execution_count": 160,
     "metadata": {},
     "output_type": "execute_result"
    }
   ],
   "source": [
    "X_test.count(), y_test.count()"
   ]
  },
  {
   "cell_type": "code",
   "execution_count": 161,
   "metadata": {},
   "outputs": [],
   "source": [
    "# Train a Gradient Boosting Regressor model\n",
    "params = {\n",
    "    'n_estimators': [100, 200],\n",
    "    'learning_rate': [0.1, 0.05],\n",
    "    'max_depth': [3, 5]\n",
    "}\n",
    "\n",
    "gbr = GradientBoostingRegressor()\n",
    "grid_search = GridSearchCV(estimator=gbr, param_grid=params, cv=3, n_jobs=-1, scoring='r2')\n",
    "grid_search.fit(X_train, y_train)\n",
    "\n",
    "best_model = grid_search.best_estimator_"
   ]
  },
  {
   "cell_type": "code",
   "execution_count": 162,
   "metadata": {},
   "outputs": [],
   "source": [
    "# Predict on the test set\n",
    "y_pred = best_model.predict(X_test)\n"
   ]
  },
  {
   "cell_type": "code",
   "execution_count": 163,
   "metadata": {},
   "outputs": [
    {
     "data": {
      "text/plain": [
       "287"
      ]
     },
     "execution_count": 163,
     "metadata": {},
     "output_type": "execute_result"
    }
   ],
   "source": [
    "len(y_pred)"
   ]
  },
  {
   "cell_type": "code",
   "execution_count": 164,
   "metadata": {},
   "outputs": [
    {
     "name": "stdout",
     "output_type": "stream",
     "text": [
      "Mean Squared Error: 30.291928887858223\n",
      "Mean Absolute Error: 3.0885421582236634\n",
      "R^2 Score: 0.8976810867983543\n"
     ]
    }
   ],
   "source": [
    "\n",
    "# Evaluate the model\n",
    "mse = mean_squared_error(y_test, y_pred)\n",
    "mae = mean_absolute_error(y_test, y_pred)\n",
    "r2 = r2_score(y_test, y_pred)\n",
    "print(f'Mean Squared Error: {mse}')\n",
    "print(f'Mean Absolute Error: {mae}')\n",
    "print(f'R^2 Score: {r2}')\n"
   ]
  },
  {
   "cell_type": "code",
   "execution_count": 165,
   "metadata": {},
   "outputs": [
    {
     "data": {
      "text/plain": [
       "(Impressions    287\n",
       " Clicks         287\n",
       " Cost           287\n",
       " dtype: int64,\n",
       " 287,\n",
       " 287)"
      ]
     },
     "execution_count": 165,
     "metadata": {},
     "output_type": "execute_result"
    }
   ],
   "source": [
    "X_test.count(), y_test.count(), len(y_pred)"
   ]
  },
  {
   "cell_type": "code",
   "execution_count": 166,
   "metadata": {},
   "outputs": [],
   "source": [
    "y_pred = list(y_pred)"
   ]
  },
  {
   "cell_type": "code",
   "execution_count": 167,
   "metadata": {},
   "outputs": [],
   "source": [
    "# plt.plot(X_test,y_test)\n",
    "# sns.scatterplot(X_test, y_test) # X_train size = 1148 y_test = 287\n"
   ]
  },
  {
   "cell_type": "code",
   "execution_count": 168,
   "metadata": {},
   "outputs": [
    {
     "data": {
      "image/png": "[encoded data removed]",
      "text/plain": [
       "<Figure size 640x480 with 1 Axes>"
      ]
     },
     "metadata": {},
     "output_type": "display_data"
    }
   ],
   "source": [
    "# Visualize the predictions\n",
    "plt.scatter(X_test['Clicks'], y_test, c='r') # X_train size = 1148 y_test = 287\n",
    "plt.scatter(X_test['Clicks'], y_pred, c='g')\n",
    "plt.xlabel('Actual Conversions')\n",
    "plt.ylabel('Predicted Conversions')\n",
    "plt.title('Actual vs. Predicted Conversions')\n",
    "plt.show()"
   ]
  },
  {
   "cell_type": "code",
   "execution_count": 169,
   "metadata": {},
   "outputs": [],
   "source": [
    "\n",
    "# Define the total budget and minimum allocation per channel\n",
    "total_budget = 200000\n",
    "min_allocation = total_budget * 0.10\n"
   ]
  },
  {
   "cell_type": "code",
   "execution_count": 170,
   "metadata": {},
   "outputs": [],
   "source": [
    "# Use the model to predict conversions for each channel\n",
    "ads_data['PredictedConversions'] = best_model.predict(ads_data[features])"
   ]
  }
 ],
 "metadata": {
  "kernelspec": {
   "display_name": "package",
   "language": "python",
   "name": "python3"
  },
  "language_info": {
   "codemirror_mode": {
    "name": "ipython",
    "version": 3
   },
   "file_extension": ".py",
   "mimetype": "text/x-python",
   "name": "python",
   "nbconvert_exporter": "python",
   "pygments_lexer": "ipython3",
   "version": "3.9.6"
  }
 },
 "nbformat": 4,
 "nbformat_minor": 2
}
