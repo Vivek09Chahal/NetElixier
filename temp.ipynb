{
 "cells": [
  {
   "cell_type": "code",
   "execution_count": 106,
   "metadata": {},
   "outputs": [],
   "source": [
    "import pandas as pd\n",
    "import numpy as np\n",
    "from sklearn.model_selection import train_test_split, GridSearchCV\n",
    "from sklearn.ensemble import GradientBoostingRegressor\n",
    "from sklearn.metrics import mean_squared_error, mean_absolute_error, r2_score\n",
    "import matplotlib.pyplot as plt\n",
    "\n",
    "from sklearn.linear_model import LinearRegression"
   ]
  },
  {
   "cell_type": "markdown",
   "metadata": {},
   "source": [
    "Loading Data"
   ]
  },
  {
   "cell_type": "code",
   "execution_count": 107,
   "metadata": {},
   "outputs": [],
   "source": [
    "# Load the train data\n",
    "google_ads = pd.read_csv('Train Data/googleads-performance.csv')\n",
    "# meta_ads = pd.read_csv('Train Data/metaads-performance.csv')\n",
    "microsoft_ads = pd.read_csv('Train Data/microsoftads-performance.csv')\n",
    "# website_landing = pd.read_csv('Train Data/website-landings.csv')\n",
    "\n",
    "# Concatenate the data\n",
    "data1 = pd.concat([google_ads, microsoft_ads], axis=0)\n",
    "\n",
    "# Drop the columns\n",
    "data1 = data1.drop(['Date', 'Campaign type'], axis=1)\n",
    "data1['Clicks'] = pd.to_numeric(data1['Clicks'], errors='coerce')\n",
    "data1['Clicks'] = data1['Clicks'].fillna(0)"
   ]
  },
  {
   "cell_type": "code",
   "execution_count": 108,
   "metadata": {},
   "outputs": [],
   "source": [
    "# Load the test data\n",
    "google_ads = pd.read_csv('Test Data/googleads-performance.csv')\n",
    "# meta_ads = pd.read_csv('Test Data/metaads-performance.csv')\n",
    "microsoft_ads = pd.read_csv('Test Data/microsoftads-performance.csv')\n",
    "# website_landing = pd.read_csv('Test Data/website-landings.csv')\n",
    "\n",
    "# merging the test data\n",
    "data2 = pd.concat([google_ads, microsoft_ads], axis=0)\n",
    "\n",
    "# dropping the columns\n",
    "data2 = data2.drop(['Date', 'Campaign type'], axis=1)"
   ]
  },
  {
   "cell_type": "markdown",
   "metadata": {},
   "source": [
    "Model 1"
   ]
  },
  {
   "cell_type": "code",
   "execution_count": 109,
   "metadata": {},
   "outputs": [],
   "source": [
    "X1 = data1.drop('Conversions', axis=1)\n",
    "y1 = data1['Conversions']"
   ]
  },
  {
   "cell_type": "code",
   "execution_count": 110,
   "metadata": {},
   "outputs": [],
   "source": [
    "X_train1, X_test1, y_train1, y_test1 = train_test_split(X1, y1, test_size=0.2, random_state=42)"
   ]
  },
  {
   "cell_type": "code",
   "execution_count": 111,
   "metadata": {},
   "outputs": [],
   "source": [
    "params = {\n",
    "    'n_estimators': [100, 200],\n",
    "    'learning_rate': [0.1, 0.05],\n",
    "    'max_depth': [3, 5]\n",
    "}\n",
    "\n",
    "gbr = GradientBoostingRegressor()\n",
    "grid_search = GridSearchCV(estimator=gbr, param_grid=params, cv=3, n_jobs=-1, scoring='r2')\n",
    "grid_search.fit(X_train1, y_train1)\n",
    "\n",
    "model_1 = grid_search.best_estimator_"
   ]
  },
  {
   "cell_type": "code",
   "execution_count": 112,
   "metadata": {},
   "outputs": [
    {
     "data": {
      "text/plain": [
       "(14.79716539339262, 0.9500187034268459)"
      ]
     },
     "execution_count": 112,
     "metadata": {},
     "output_type": "execute_result"
    }
   ],
   "source": [
    "y_pred1 = model_1.predict(X_test1)\n",
    "mse1 = mean_squared_error(y_test1, y_pred1)\n",
    "r21 = r2_score(y_test1, y_pred1)\n",
    "mse1, r21"
   ]
  },
  {
   "cell_type": "code",
   "execution_count": 113,
   "metadata": {},
   "outputs": [],
   "source": [
    "X2 = data2.drop('Conversions', axis=1)\n",
    "y2 = data2['Conversions']"
   ]
  },
  {
   "cell_type": "code",
   "execution_count": 114,
   "metadata": {},
   "outputs": [],
   "source": [
    "X_train2, X_test2, y_train2, y_test2 = train_test_split(X2, y2, test_size=0.2, random_state=42)"
   ]
  },
  {
   "cell_type": "code",
   "execution_count": 115,
   "metadata": {},
   "outputs": [],
   "source": [
    "grid_search.fit(X_train2, y_train2)\n",
    "model_1 = grid_search.best_estimator_"
   ]
  },
  {
   "cell_type": "code",
   "execution_count": 116,
   "metadata": {},
   "outputs": [
    {
     "data": {
      "text/plain": [
       "(63.57447371583026, 0.9759634204916157)"
      ]
     },
     "execution_count": 116,
     "metadata": {},
     "output_type": "execute_result"
    }
   ],
   "source": [
    "y_pred2 = model_1.predict(X_test2)\n",
    "mse2 = mean_squared_error(y_test2, y_pred2)\n",
    "r22 = r2_score(y_test2, y_pred2)\n",
    "mse2, r22"
   ]
  }
 ],
 "metadata": {
  "kernelspec": {
   "display_name": "package",
   "language": "python",
   "name": "python3"
  },
  "language_info": {
   "codemirror_mode": {
    "name": "ipython",
    "version": 3
   },
   "file_extension": ".py",
   "mimetype": "text/x-python",
   "name": "python",
   "nbconvert_exporter": "python",
   "pygments_lexer": "ipython3",
   "version": "3.9.6"
  }
 },
 "nbformat": 4,
 "nbformat_minor": 2
}
